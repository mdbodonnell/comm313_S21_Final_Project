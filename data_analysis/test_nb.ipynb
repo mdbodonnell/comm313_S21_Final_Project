{
 "cells": [
  {
   "cell_type": "markdown",
   "id": "b2354ff4-8dae-456f-8cd0-6c4258b91efb",
   "metadata": {},
   "source": [
    "## Test commit"
   ]
  },
  {
   "cell_type": "code",
   "execution_count": 3,
   "id": "0bb8d2a3-6c78-4b5e-9a27-e52fd265493c",
   "metadata": {},
   "outputs": [
    {
     "name": "stdout",
     "output_type": "stream",
     "text": [
      " 0 stars look like \n",
      " 1 stars look like *\n",
      " 2 stars look like **\n",
      " 3 stars look like ***\n",
      " 4 stars look like ****\n",
      " 5 stars look like *****\n",
      " 6 stars look like ******\n",
      " 7 stars look like *******\n",
      " 8 stars look like ********\n",
      " 9 stars look like *********\n",
      "10 stars look like **********\n",
      "11 stars look like ***********\n",
      "12 stars look like ************\n"
     ]
    }
   ],
   "source": [
    "for x in range(13):\n",
    "    print(f'{x: >2} stars look like {\"*\" * x}')"
   ]
  },
  {
   "cell_type": "code",
   "execution_count": null,
   "id": "ad7fa643-4c7b-4bcb-9601-6bf241d6069f",
   "metadata": {},
   "outputs": [],
   "source": []
  }
 ],
 "metadata": {
  "kernelspec": {
   "display_name": "Python 3 (COMM318)",
   "language": "python",
   "name": "python3"
  },
  "language_info": {
   "codemirror_mode": {
    "name": "ipython",
    "version": 3
   },
   "file_extension": ".py",
   "mimetype": "text/x-python",
   "name": "python",
   "nbconvert_exporter": "python",
   "pygments_lexer": "ipython3",
   "version": "3.8.8"
  }
 },
 "nbformat": 4,
 "nbformat_minor": 5
}
