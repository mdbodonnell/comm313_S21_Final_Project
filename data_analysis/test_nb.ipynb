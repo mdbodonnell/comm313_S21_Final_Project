{
 "cells": [
  {
   "cell_type": "markdown",
   "id": "b2354ff4-8dae-456f-8cd0-6c4258b91efb",
   "metadata": {},
   "source": [
    "## Test commit"
   ]
  },
  {
   "cell_type": "code",
   "execution_count": 9,
   "id": "0bb8d2a3-6c78-4b5e-9a27-e52fd265493c",
   "metadata": {},
   "outputs": [
    {
     "name": "stdout",
     "output_type": "stream",
     "text": [
      " 1 star  looks like *\n",
      " 4 stars look  like ****\n",
      " 7 stars look  like *******\n",
      "10 stars look  like **********\n",
      "13 stars look  like *************\n",
      "16 stars look  like ****************\n",
      "19 stars look  like *******************\n",
      "22 stars look  like **********************\n",
      "25 stars look  like *************************\n",
      "28 stars look  like ****************************\n",
      "31 stars look  like *******************************\n",
      "34 stars look  like **********************************\n"
     ]
    }
   ],
   "source": [
    "pf1=\" \"\n",
    "pf2=\"s\"\n",
    "\n",
    "for x in range(1,37,3):\n",
    "    if x>1:\n",
    "        pf1=\"s\"\n",
    "        pf2=\" \"\n",
    "    print(f'{x: >2} star{pf1} look{pf2} like {\"*\" * x}')"
   ]
  },
  {
   "cell_type": "code",
   "execution_count": null,
   "id": "ad7fa643-4c7b-4bcb-9601-6bf241d6069f",
   "metadata": {},
   "outputs": [],
   "source": []
  }
 ],
 "metadata": {
  "kernelspec": {
   "display_name": "Python 3 (COMM318)",
   "language": "python",
   "name": "python3"
  },
  "language_info": {
   "codemirror_mode": {
    "name": "ipython",
    "version": 3
   },
   "file_extension": ".py",
   "mimetype": "text/x-python",
   "name": "python",
   "nbconvert_exporter": "python",
   "pygments_lexer": "ipython3",
   "version": "3.8.8"
  }
 },
 "nbformat": 4,
 "nbformat_minor": 5
}
